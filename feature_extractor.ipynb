{
  "nbformat": 4,
  "nbformat_minor": 0,
  "metadata": {
    "colab": {
      "name": "feature_extractored.ipynb",
      "provenance": [],
      "collapsed_sections": [],
      "toc_visible": true,
      "authorship_tag": "ABX9TyNmMR0+VcJlrPw2KqKl39rY",
      "include_colab_link": true
    },
    "kernelspec": {
      "name": "python3",
      "display_name": "Python 3"
    },
    "accelerator": "GPU"
  },
  "cells": [
    {
      "cell_type": "markdown",
      "metadata": {
        "id": "view-in-github",
        "colab_type": "text"
      },
      "source": [
        "<a href=\"https://colab.research.google.com/github/Vantage-AI/blog_rotations/blob/master/feature_extractor.ipynb\" target=\"_parent\"><img src=\"https://colab.research.google.com/assets/colab-badge.svg\" alt=\"Open In Colab\"/></a>"
      ]
    },
    {
      "cell_type": "code",
      "metadata": {
        "id": "Hrgq6YXcTwIt",
        "colab_type": "code",
        "colab": {}
      },
      "source": [
        "feature_extractor = tf.keras.Sequential([\n",
        "    tf.keras.layers.Input(shape=(28, 28, 1)),\n",
        "    tf.keras.layers.Conv2D(32, (5, 5), \n",
        "                           activation=tf.nn.relu, \n",
        "                           padding='same', \n",
        "                           name='conv1'),\n",
        "    tf.keras.layers.MaxPool2D((2, 2)),\n",
        "    tf.keras.layers.Conv2D(64, (5, 5), \n",
        "                           activation=tf.nn.relu, \n",
        "                           padding='same', \n",
        "                           name='conv2'),\n",
        "    tf.keras.layers.GlobalAveragePooling2D(),\n",
        "    tf.keras.layers.Flatten(),\n",
        "    tf.keras.layers.Dropout(0.2, name='dropout'),\n",
        "    tf.keras.layers.Dense(units=16, activation=tf.nn.relu, name='dense')])"
      ],
      "execution_count": 0,
      "outputs": []
    }
  ]
}